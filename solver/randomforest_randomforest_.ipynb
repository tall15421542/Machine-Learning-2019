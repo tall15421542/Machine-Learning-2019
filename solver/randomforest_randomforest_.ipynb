{
 "cells": [
  {
   "cell_type": "code",
   "execution_count": 3,
   "metadata": {},
   "outputs": [
    {
     "name": "stdout",
     "output_type": "stream",
     "text": [
      "(100, 10000)\n",
      "(100, 3)\n",
      "(100, 500)\n",
      "(100, 500)\n",
      "preprocessDone\n",
      "WMAE EIN: \n",
      "(100, 3) (100, 3)\n",
      "40.85062662035171\n",
      "Validation:\n",
      "(100, 3) (100, 3)\n",
      "124.82543208636261\n",
      "NAE EIN: \n",
      "(100, 3) (100, 3)\n",
      "0.36825234668690643\n",
      "Validation:\n",
      "(100, 3) (100, 3)\n",
      "0.9695115167456447\n"
     ]
    }
   ],
   "source": [
    "from randomForestPreprocessor import RandomForestPreprocessor\n",
    "from finalSolver import FinalSolver\n",
    "from sklearn.ensemble import RandomForestRegressor\n",
    "from SVMR import SVMR\n",
    "from itertools import product\n",
    "from math import fabs\n",
    "import numpy as np\n",
    "\n",
    "# loss function \n",
    "def WMAE(y, y_hat):\n",
    "    n, d = y.shape\n",
    "    ret = 0\n",
    "    weight = [300, 1, 200]\n",
    "    for n_idx, d_idx in product(range(n), range(d)):\n",
    "        ret += weight[d_idx] * fabs(y[n_idx][d_idx] - y_hat[n_idx][d_idx] ) \n",
    "    return ret / n\n",
    "\n",
    "\n",
    "def NAE(y, y_hat):\n",
    "    n, d = y.shape\n",
    "    ret = 0\n",
    "    for n_idx, d_idx in product(range(n), range(d)):\n",
    "        ret += fabs(y[n_idx][d_idx] - y_hat[n_idx][d_idx] ) / y[n_idx][d_idx]\n",
    "    return ret / n\n",
    "\n",
    "\n",
    "N_selected_feature = 500\n",
    "\n",
    "solver = FinalSolver()\n",
    "solver.readXTrain(\"./X_train_small_100.npz\")\n",
    "solver.readYTrain(\"./Y_train_small_100.npz\")\n",
    "solver.readXValidation(\"./X_validation_100.npz\")\n",
    "solver.readYValidation(\"./Y_validation_100.npz\")\n",
    "print(solver.x_train.shape)\n",
    "print(solver.y_train.shape)\n",
    "\n",
    "# randomforest preprocess \n",
    "solver.scaleY(np.array([300.0, 1.0, 200.0]))\n",
    "solver.setPreprocessor(RandomForestPreprocessor())\n",
    "solver.preprocessData(N_selected_feature)\n",
    "print(solver.x_train.shape)\n",
    "print(\"preprocessDone\")\n",
    "\n",
    "# svr model\n",
    "n, n_dim = solver.y_train.shape \n",
    "solver.setModel(RandomForestRegressor(criterion=\"mae\", n_jobs = -1))\n",
    "solver.fit()\n",
    "\n",
    "# WMAE \n",
    "solver.setLossFunction(WMAE)\n",
    "print(\"WMAE EIN: \")\n",
    "print(solver.calculateEin())\n",
    "print(\"Validation:\")\n",
    "print(solver.calculateValError())\n",
    "\n",
    "# NAE\n",
    "solver.setLossFunction(NAE)\n",
    "print(\"NAE EIN: \")\n",
    "print(solver.calculateEin())\n",
    "print(\"Validation:\")\n",
    "print(solver.calculateValError())\n",
    "\n"
   ]
  },
  {
   "cell_type": "code",
   "execution_count": null,
   "metadata": {},
   "outputs": [],
   "source": []
  }
 ],
 "metadata": {
  "kernelspec": {
   "display_name": "Python 3",
   "language": "python",
   "name": "python3"
  },
  "language_info": {
   "codemirror_mode": {
    "name": "ipython",
    "version": 3
   },
   "file_extension": ".py",
   "mimetype": "text/x-python",
   "name": "python",
   "nbconvert_exporter": "python",
   "pygments_lexer": "ipython3",
   "version": "3.6.8"
  }
 },
 "nbformat": 4,
 "nbformat_minor": 2
}
