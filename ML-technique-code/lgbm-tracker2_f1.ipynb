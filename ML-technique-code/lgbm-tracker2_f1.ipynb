{
 "cells": [
  {
   "cell_type": "code",
   "execution_count": 2,
   "metadata": {},
   "outputs": [],
   "source": [
    "import lightgbm as lgb\n",
    "import numpy as np"
   ]
  },
  {
   "cell_type": "code",
   "execution_count": 3,
   "metadata": {},
   "outputs": [],
   "source": [
    "train_X = np.load('../X_train.npz')\n",
    "x_train = train_X['arr_0']\n",
    "\n",
    "test_X = np.load('../X_test.npz')\n",
    "x_pred = test_X['arr_0']\n",
    "\n",
    "\n",
    "train_Y = np.load('../Y_train.npz')\n",
    "y_train = (train_Y['arr_0'])\n",
    "\n",
    "pen_rate = y_train[:,0]\n",
    "\n",
    "feature_size = 2000\n",
    "\n",
    "rf_index = []\n",
    "with open(\"rf_index.csv\") as f:\n",
    "    for line in f:\n",
    "        rf_index.append(int(line.strip()))\n",
    "rf_index = np.array(rf_index)\n",
    "\n",
    "x_train = x_train[:,rf_index[:feature_size]]\n",
    "\n",
    "\n",
    "x_pred = x_pred[:,rf_index[:feature_size]]\n"
   ]
  },
  {
   "cell_type": "code",
   "execution_count": 4,
   "metadata": {},
   "outputs": [],
   "source": [
    "from sklearn.model_selection import train_test_split\n",
    "x_train, x_test, y_train, y_test = train_test_split(x_train, pen_rate, test_size=0.05, random_state=42)\n"
   ]
  },
  {
   "cell_type": "code",
   "execution_count": 5,
   "metadata": {},
   "outputs": [],
   "source": [
    "lgb_train = lgb.Dataset(x_train,y_train)\n",
    "lgb_eval = lgb.Dataset(x_test,y_test,reference=lgb_train)"
   ]
  },
  {
   "cell_type": "code",
   "execution_count": 8,
   "metadata": {},
   "outputs": [
    {
     "data": {
      "text/plain": [
       "(2500, 2000)"
      ]
     },
     "execution_count": 8,
     "metadata": {},
     "output_type": "execute_result"
    }
   ],
   "source": [
    "x_pred.shape"
   ]
  },
  {
   "cell_type": "code",
   "execution_count": 9,
   "metadata": {},
   "outputs": [
    {
     "data": {
      "text/plain": [
       "(2500,)"
      ]
     },
     "execution_count": 9,
     "metadata": {},
     "output_type": "execute_result"
    }
   ],
   "source": [
    "y1_pred.shape"
   ]
  },
  {
   "cell_type": "code",
   "execution_count": 10,
   "metadata": {},
   "outputs": [],
   "source": [
    "for i in range(len(y1_pred)):\n",
    "    if y1_pred[i]<0:\n",
    "        y1_pred[i] = 0\n",
    "    if y1_pred[i]>1:\n",
    "        y1_pred[i] = 1"
   ]
  },
  {
   "cell_type": "code",
   "execution_count": 11,
   "metadata": {},
   "outputs": [],
   "source": [
    "y_feature = 'y0.csv'\n",
    "y_file = open(y_feature,\"w\")\n",
    "for i in range(len(y1_pred)):\n",
    "    y_file.write(str(y1_pred[i]))\n",
    "    if i != len(y1_pred)-1:\n",
    "        y_file.write(\"\\n\")\n",
    "y_file.close()"
   ]
  },
  {
   "cell_type": "code",
   "execution_count": null,
   "metadata": {},
   "outputs": [],
   "source": [
    "y_file = open(\"NAE.csv\",\"w\")\n",
    "#with open(\"WMAE.csv\",'r') as f:\n",
    "with open(\"../predict/0610_RNN_NAE.csv\",'r') as f:\n",
    "    for i,line in enumerate(f):\n",
    "        print(i)\n",
    "        line_list = line.strip().split(',')\n",
    "        print(line_list)\n",
    "        y_file.write(line_list[0]+\",\"+str(y1_pred[i])+\",\"+line_list[2])\n",
    "        if i!= len(y1_pred)-1:\n",
    "            y_file.write(\"\\n\")\n",
    "y_file.close() "
   ]
  },
  {
   "cell_type": "code",
   "execution_count": null,
   "metadata": {},
   "outputs": [],
   "source": [
    "y_file = open(\"NAE_2.csv\",\"w\")\n",
    "#with open(\"../predict/0605_RNN_WMAE.csv\",'r') as f:\n",
    "with open(\"../predict/0610_RNN_NAE.csv\",'r') as f:\n",
    "    for i,line in enumerate(f):\n",
    "        print(i)\n",
    "        line_list = line.strip().split(',')\n",
    "        print(line_list)\n",
    "        y_file.write(str(y1_pred[i])+\",\"+line_list[1]+\",\"+line_list[2])\n",
    "        if i!= len(y1_pred)-1:\n",
    "            y_file.write(\"\\n\")\n",
    "y_file.close()    "
   ]
  },
  {
   "cell_type": "code",
   "execution_count": null,
   "metadata": {},
   "outputs": [],
   "source": []
  }
 ],
 "metadata": {
  "kernelspec": {
   "display_name": "Python 3",
   "language": "python",
   "name": "python3"
  },
  "language_info": {
   "codemirror_mode": {
    "name": "ipython",
    "version": 3
   },
   "file_extension": ".py",
   "mimetype": "text/x-python",
   "name": "python",
   "nbconvert_exporter": "python",
   "pygments_lexer": "ipython3",
   "version": "3.6.1"
  }
 },
 "nbformat": 4,
 "nbformat_minor": 2
}
